{
 "cells": [
  {
   "cell_type": "code",
   "execution_count": null,
   "id": "ecee5c50",
   "metadata": {},
   "outputs": [],
   "source": [
    "import serial # You need pyserial for this\n",
    "import json\n",
    "import matplotlib.pyplot as plt\n",
    "from matplotlib.animation import FuncAnimation\n",
    "\n",
    "# Make animation work in notebook\n",
    "%matplotlib qt"
   ]
  },
  {
   "cell_type": "markdown",
   "id": "948c5b4f",
   "metadata": {},
   "source": [
    "## Manual setup"
   ]
  },
  {
   "cell_type": "code",
   "execution_count": null,
   "id": "2c2e5c30",
   "metadata": {},
   "outputs": [],
   "source": [
    "port = '/dev/ttyACM1'\n",
    "ser = serial.Serial(port, 115200, timeout=1)\n",
    "time.sleep(2)"
   ]
  },
  {
   "cell_type": "code",
   "execution_count": null,
   "id": "a094d9d0",
   "metadata": {},
   "outputs": [],
   "source": [
    "data_to_send = \"eargs -s 0\"\n",
    "ser.write(data_to_send.encode())"
   ]
  },
  {
   "cell_type": "code",
   "execution_count": null,
   "id": "28e0bacd",
   "metadata": {},
   "outputs": [],
   "source": [
    "received_data = ser.readline().decode().strip() \n",
    "print(\"Received: {}\".format(received_data))"
   ]
  },
  {
   "cell_type": "code",
   "execution_count": null,
   "id": "8d102dd4",
   "metadata": {},
   "outputs": [],
   "source": [
    "# Detect port name\n",
    "from serial.tools import list_ports\n",
    "ports = list_ports.comports()\n",
    "for port in ports:\n",
    "    print(port.device)"
   ]
  },
  {
   "cell_type": "markdown",
   "id": "039f6355",
   "metadata": {},
   "source": [
    "## Real-time plotting"
   ]
  },
  {
   "cell_type": "code",
   "execution_count": null,
   "id": "e510604d",
   "metadata": {},
   "outputs": [],
   "source": [
    "# Serial connection setup\n",
    "from serial.tools import list_ports\n",
    "ports = list_ports.comports()\n",
    "SERIAL_PORT = ports[0].device # Auto-detect; only works for one port\n",
    "BAUD_RATE = 115200\n",
    "TIME_WINDOW = 1000  # Sliding window width, in ms\n",
    "\n",
    "time_data = []\n",
    "adc_data = []\n",
    "\n",
    "# Initialize serial connection\n",
    "try:\n",
    "    ser = serial.Serial(SERIAL_PORT, BAUD_RATE, timeout=1)\n",
    "    print(f\"Connected to {SERIAL_PORT}\")\n",
    "except serial.SerialException as e:\n",
    "    print(f\"Error: Could not open serial port {SERIAL_PORT}. {e}\")\n",
    "    raise SystemExit\n",
    "\n",
    "# Set up plot\n",
    "fig, ax = plt.subplots()\n",
    "line, = ax.plot([], [], lw=2)\n",
    "latest_text = ax.text(0.9, 0.9, '', transform=ax.transAxes, fontsize=12, color='blue', bbox=dict(facecolor='white'))\n",
    "ax.set_xlim(-TIME_WINDOW, 0)\n",
    "ax.set_ylim(2500, 4096)\n",
    "ax.set_xlabel(\"Time (s)\")\n",
    "ax.set_ylabel(\"ADC Value\")\n",
    "ax.grid(True)\n",
    "\n",
    "# Update function for the animation\n",
    "def update(frame):\n",
    "    global time_data, adc_data\n",
    "\n",
    "    # Read data from the serial port\n",
    "    try:\n",
    "        if ser.in_waiting > 0:\n",
    "            line_data = ser.readline().decode('utf-8', errors='ignore').strip()\n",
    "            parsed = json.loads(line_data)\n",
    "            current_time, adc_value = parsed[\"time\"], parsed[\"ADC\"]\n",
    "\n",
    "            time_data.append(current_time)\n",
    "            adc_data.append(adc_value)\n",
    "\n",
    "            # Keep only the last TIME_WINDOW ms of data\n",
    "            time_data = [t for t in time_data if t >= current_time - TIME_WINDOW]\n",
    "            adc_data = adc_data[-len(time_data):]\n",
    "    except json.JSONDecodeError:\n",
    "        print(f\"Invalid JSON; read: {line_data}\")\n",
    "        pass  # Ignore invalid JSON lines\n",
    "    except serial.SerialException as e:\n",
    "        print(f\"Serial exception occurred: {e}\")\n",
    "        ser.close()\n",
    "        raise SystemExit\n",
    "\n",
    "    # Update the plot\n",
    "    if time_data and adc_data:\n",
    "        relative_time = [t - time_data[-1] for t in time_data]  # Shift time to end at 0\n",
    "        line.set_data(relative_time, adc_data)\n",
    "        latest_text.set_text(f\"Latest: {adc_data[-1]}\")\n",
    "\n",
    "    return line, latest_text\n",
    "\n",
    "# Start the animation\n",
    "ani = FuncAnimation(fig, update, interval=50)\n",
    "\n",
    "# Show the plot\n",
    "plt.show()"
   ]
  },
  {
   "cell_type": "code",
   "execution_count": null,
   "id": "436ae31e",
   "metadata": {},
   "outputs": [],
   "source": [
    "ser.close()\n",
    "print(\"Serial connection closed.\") # Manual closing is required\n"
   ]
  },
  {
   "cell_type": "code",
   "execution_count": null,
   "id": "67abb491",
   "metadata": {},
   "outputs": [],
   "source": [
    "time_data, adc_data"
   ]
  },
  {
   "cell_type": "code",
   "execution_count": null,
   "id": "a3ea2f97",
   "metadata": {},
   "outputs": [],
   "source": []
  }
 ],
 "metadata": {
  "kernelspec": {
   "display_name": "Python 3 (ipykernel)",
   "language": "python",
   "name": "python3"
  },
  "language_info": {
   "codemirror_mode": {
    "name": "ipython",
    "version": 3
   },
   "file_extension": ".py",
   "mimetype": "text/x-python",
   "name": "python",
   "nbconvert_exporter": "python",
   "pygments_lexer": "ipython3",
   "version": "3.11.2"
  }
 },
 "nbformat": 4,
 "nbformat_minor": 5
}
