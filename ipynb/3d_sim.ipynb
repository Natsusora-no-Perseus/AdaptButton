{
 "cells": [
  {
   "cell_type": "markdown",
   "id": "1883aa5c",
   "metadata": {},
   "source": [
    "The Biot-Savart Law:\n",
    "$$ \\vec{B}(\\vec{r})={\\mu_0\\over{4\\pi}}\\int\\frac{ \\vec{I}\\times\\vec{\\mathscr{i}}}{\\mathscr{i}^3}dl'$$"
   ]
  },
  {
   "cell_type": "code",
   "execution_count": 1,
   "id": "cbb77d07",
   "metadata": {},
   "outputs": [],
   "source": [
    "%matplotlib qt\n",
    "\n",
    "import numpy as np\n",
    "import matplotlib.pyplot as plt\n",
    "from scipy.interpolate import RegularGridInterpolator\n",
    "from mpl_toolkits.mplot3d.axes3d import Axes3D\n",
    "from tqdm import tqdm\n",
    "\n",
    "\n",
    "mu0 = 4 * np.pi * 1e-7"
   ]
  },
  {
   "cell_type": "code",
   "execution_count": 2,
   "id": "f7eb3566",
   "metadata": {},
   "outputs": [],
   "source": [
    "mesh_res_x, mesh_res_y, mesh_res_z = 20, 20, 60 # Mesh resolution\n",
    "mesh_len_x, mesh_len_y, mesh_len_z = 2, 2, 6"
   ]
  },
  {
   "cell_type": "markdown",
   "id": "b808a798",
   "metadata": {},
   "source": [
    "$\\vec{r}$: origin to field point; $\\vec{r'}$: origin to source point (current element); $\\vec{\\mathscr{i}}$: Source point to field point"
   ]
  },
  {
   "cell_type": "code",
   "execution_count": 3,
   "id": "23634379",
   "metadata": {},
   "outputs": [],
   "source": [
    "def get_mag_field(X, Y, Z, currents):\n",
    "    Bx, By, Bz = np.zeros_like(X), np.zeros_like(Y), np.zeros_like(Z)\n",
    "    prog_bar = tqdm(total=len(currents), desc=\"Processing B-field\")\n",
    "    for current in currents:\n",
    "        cr, ci = current[0], current[1] # vec to src; vec of src\n",
    "        i_vec = np.stack((X,Y,Z), axis=-1) - cr\n",
    "        i_mag = np.sqrt(np.sum(i_vec**2, axis=-1))\n",
    "        i_mag[i_mag == 0] = np.finfo(float).eps; # avoid division by zero\n",
    "        dB = mu0/4/np.pi * np.cross(ci, i_vec) / i_mag[...,None]**3\n",
    "        Bx += dB[..., 0]\n",
    "        By += dB[..., 1]\n",
    "        Bz += dB[..., 2]\n",
    "        \n",
    "        prog_bar.update(1)\n",
    "        # print(\"Result:\", dB)\n",
    "    prog_bar.close()\n",
    "    return Bx, By, Bz\n",
    "\n",
    "def gen_current_coil(r, z, I, res):\n",
    "    \"\"\"Generate one revolution of coil at z\"\"\"\n",
    "    angles = np.linspace(0, 2*np.pi, res, endpoint=False)\n",
    "    ret = []\n",
    "    for angle in angles:\n",
    "        ret.append([(r * np.cos(angle), r * np.sin(angle), z),\n",
    "                   (-I * np.sin(angle), I * np.cos(angle), 0)])\n",
    "    return np.array(ret)\n",
    "\n",
    "def get_mag_force(Bx, By, Bz, X, Y, Z, x, y, z, m_dips):\n",
    "    prog_bar = tqdm(total=len(m_dips), desc=\"Processing Forces\")\n",
    "\n",
    "    # Precompute gradient\n",
    "    B_grad = {\n",
    "        'grad_x': np.stack(np.gradient(Bx, X[:,0,0], Y[0,:,0], Z[0,0,:], edge_order=2), axis=-1),\n",
    "        'grad_y': np.stack(np.gradient(By, X[:,0,0], Y[0,:,0], Z[0,0,:], edge_order=2), axis=-1),\n",
    "        'grad_z': np.stack(np.gradient(Bz, X[:,0,0], Y[0,:,0], Z[0,0,:], edge_order=2), axis=-1)\n",
    "    }\n",
    "    \n",
    "    # Get interpolator\n",
    "    interpolators = {key: RegularGridInterpolator((x,y,z), grad, bounds_error=False, fill_value=0)\n",
    "                   for key, grad in B_grad.items()}\n",
    "    \n",
    "    # Calculate force\n",
    "    ret = []\n",
    "    for m_dip in m_dips:\n",
    "        grad_Bx = interpolators['grad_x'](m_dip[0])[0]\n",
    "        grad_By = interpolators['grad_y'](m_dip[0])[0]\n",
    "        grad_Bz = interpolators['grad_z'](m_dip[0])[0]\n",
    "        \n",
    "        grad_B = np.array([grad_Bx, grad_By, grad_Bz])\n",
    "        # print(grad_B)\n",
    "        ret.append(np.matmul(m_dip[1], grad_B))\n",
    "        \n",
    "        prog_bar.update(1)\n",
    "    \n",
    "    prog_bar.close()\n",
    "    return np.array(ret)\n",
    "\n",
    "    "
   ]
  },
  {
   "cell_type": "code",
   "execution_count": 4,
   "id": "e0a1f1d2",
   "metadata": {},
   "outputs": [],
   "source": [
    "I_mag = 0.5 # Current\n",
    "\n",
    "# Shape: [(Rx, Ry, Rz),(Ix, Iy, Iz)]\n",
    "currents = np.vstack(np.array([gen_current_coil(1, z/20, I_mag, 12) for z in range(-30,30)]))"
   ]
  },
  {
   "cell_type": "code",
   "execution_count": 5,
   "id": "62b47b6a",
   "metadata": {},
   "outputs": [
    {
     "name": "stderr",
     "output_type": "stream",
     "text": [
      "Processing B-field: 100%|█████████████████████████████| 720/720 [00:01<00:00, 490.18it/s]\n"
     ]
    }
   ],
   "source": [
    "x = np.linspace(-mesh_len_x / 2, mesh_len_x / 2, mesh_res_x)\n",
    "y = np.linspace(-mesh_len_y / 2, mesh_len_y / 2, mesh_res_y)\n",
    "z = np.linspace(-mesh_len_z / 2, mesh_len_z / 2, mesh_res_z)\n",
    "X, Y, Z = np.meshgrid(x, y, z, indexing='ij')\n",
    "\n",
    "# Calculate\n",
    "Bx, By, Bz = get_mag_field(X, Y, Z, currents)"
   ]
  },
  {
   "cell_type": "code",
   "execution_count": 24,
   "id": "fadb3c23",
   "metadata": {},
   "outputs": [],
   "source": [
    "dipoles = []\n",
    "for iz in range(-14,14):\n",
    "    for ix in range(-3,3):\n",
    "        for iy in range(-3,3):\n",
    "            dipoles.append([(ix/6, iy/6, iz/6), (0,0,1)])\n",
    "            # dipoles.append([(ix/10, iy/10, 0), (0,0,1)])\n",
    "dipoles = np.array(dipoles)"
   ]
  },
  {
   "cell_type": "code",
   "execution_count": 25,
   "id": "af24b87f",
   "metadata": {},
   "outputs": [
    {
     "name": "stderr",
     "output_type": "stream",
     "text": [
      "Processing Forces: 100%|███████████████████████████| 1008/1008 [00:00<00:00, 2107.02it/s]\n"
     ]
    }
   ],
   "source": [
    "forces = get_mag_force(Bx, By, Bz, X, Y, Z, x, y, z, dipoles)"
   ]
  },
  {
   "cell_type": "code",
   "execution_count": 28,
   "id": "20165b4a",
   "metadata": {},
   "outputs": [],
   "source": [
    "ax = plt.figure().add_subplot(projection='3d')\n",
    "ax.set_proj_type('ortho')\n",
    "\n",
    "# Plot the currents\n",
    "plot_currents, plot_field, plot_force = True, True, True\n",
    "plot_uniform_scaling = True\n",
    "psk = 4 # Skip over some vectors to speed up 3D viewer\n",
    "\n",
    "if plot_currents:\n",
    "    ax.quiver(\n",
    "        currents[:,:1,0], currents[:,:1,1], currents[:,:1,2], # Positions\n",
    "        currents[:,1:,0], currents[:,1:,1], currents[:,1:,2], # Directions\n",
    "        length=0.05, color='red', normalize=True, label='Current Elements'\n",
    "    )\n",
    "\n",
    "m_scale = 1e4 # Magnetic field scaling\n",
    "if plot_field:\n",
    "    ax.quiver(X[::psk,::psk,::psk],Y[::psk,::psk,::psk],Z[::psk,::psk,::psk],\n",
    "              Bx[::psk,::psk,::psk]*m_scale, By[::psk,::psk,::psk]*m_scale, Bz[::psk,::psk,::psk]*m_scale)\n",
    "\n",
    "f_scale = 2e4 # Force field scaling\n",
    "if plot_force:\n",
    "    ax.quiver(\n",
    "        dipoles[::psk,:1:psk,0], dipoles[::psk,:1:psk,1], dipoles[::psk,:1:psk,2], # Positions\n",
    "        forces[::psk,:1]*f_scale, forces[::psk,1:2]*f_scale, forces[::psk,2:]*f_scale, # Directions\n",
    "        color='green', label='Force Elements'\n",
    "    )\n",
    "\n",
    "if plot_uniform_scaling:\n",
    "    ax.set_box_aspect([mesh_res_x, mesh_res_y, mesh_res_z])\n",
    "\n",
    "ax.set_xlabel(\"X\")\n",
    "ax.set_ylabel(\"Y\")\n",
    "ax.set_zlabel(\"Z\")\n",
    "plt.show()"
   ]
  },
  {
   "cell_type": "code",
   "execution_count": null,
   "id": "6a9b3bbd",
   "metadata": {
    "scrolled": false
   },
   "outputs": [],
   "source": []
  },
  {
   "cell_type": "code",
   "execution_count": null,
   "id": "9bfce822",
   "metadata": {},
   "outputs": [],
   "source": []
  }
 ],
 "metadata": {
  "kernelspec": {
   "display_name": "Python 3 (ipykernel)",
   "language": "python",
   "name": "python3"
  },
  "language_info": {
   "codemirror_mode": {
    "name": "ipython",
    "version": 3
   },
   "file_extension": ".py",
   "mimetype": "text/x-python",
   "name": "python",
   "nbconvert_exporter": "python",
   "pygments_lexer": "ipython3",
   "version": "3.11.2"
  }
 },
 "nbformat": 4,
 "nbformat_minor": 5
}
